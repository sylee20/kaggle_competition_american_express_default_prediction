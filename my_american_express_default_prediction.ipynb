{
  "nbformat": 4,
  "nbformat_minor": 0,
  "metadata": {
    "colab": {
      "name": "my_american_express_default_prediction.ipynb",
      "provenance": [],
      "machine_shape": "hm",
      "authorship_tag": "ABX9TyMaXEip82YUc6L2/euHZvQ2",
      "include_colab_link": true
    },
    "kernelspec": {
      "name": "python3",
      "display_name": "Python 3"
    },
    "language_info": {
      "name": "python"
    },
    "gpuClass": "standard"
  },
  "cells": [
    {
      "cell_type": "markdown",
      "metadata": {
        "id": "view-in-github",
        "colab_type": "text"
      },
      "source": [
        "<a href=\"https://colab.research.google.com/github/sylee20/kaggle_competition/blob/main/my_american_express_default_prediction.ipynb\" target=\"_parent\"><img src=\"https://colab.research.google.com/assets/colab-badge.svg\" alt=\"Open In Colab\"/></a>"
      ]
    },
    {
      "cell_type": "markdown",
      "source": [
        "#Dependencies"
      ],
      "metadata": {
        "id": "HJfXPeEXoWu3"
      }
    },
    {
      "cell_type": "code",
      "execution_count": null,
      "metadata": {
        "id": "bc0riWQhoNXt"
      },
      "outputs": [],
      "source": [
        "import pandas as pd\n",
        "import numpy as np\n",
        "import matplotlib.pyplot as plt\n",
        "import seaborn as sns\n",
        "%matplotlib inline\n",
        "\n",
        "import os, gc"
      ]
    },
    {
      "cell_type": "markdown",
      "source": [
        "# Predefine functions"
      ],
      "metadata": {
        "id": "FXIYaeorBxxl"
      }
    },
    {
      "cell_type": "code",
      "source": [
        "# Memory saving function credit to https://www.kaggle.com/gemartin/load-data-reduce-memory-usage\n",
        "\n",
        "def reduce_mem_usage(df):\n",
        "    \"\"\" iterate through all the columns of a dataframe and modify the data type\n",
        "        to reduce memory usage.\n",
        "    \"\"\"\n",
        "    start_mem = df.memory_usage().sum() / 1024**2\n",
        "\n",
        "    for col in df.columns:\n",
        "      col_type = df[col].dtype\n",
        "\n",
        "      if col_type != object:\n",
        "        c_min = df[col].min()\n",
        "        c_max = df[col].max()\n",
        "        if str(col_type)[:3] == 'int':\n",
        "          if c_min > np.iinfo(np.int8).min and c_max < np.iinfo(np.int8).max:\n",
        "            df[col] = df[col].astype(np.int8)\n",
        "          elif c_min > np.iinfo(np.int16).min and c_max < np.iinfo(np.int16).max:\n",
        "            df[col] = df[col].astype(np.int16)\n",
        "          elif c_min > np.iinfo(np.int32).min and c_max < np.iinfo(np.int32).max:\n",
        "            df[col] = df[col].astype(np.int32)\n",
        "          elif c_min > np.iinfo(np.int64).min and c_max < np.iinfo(np.int64).max:\n",
        "            df[col] = df[col].astype(np.int64)\n",
        "        else:\n",
        "          if c_min > np.finfo(np.float32).min and c_max < np.finfo(np.float32).max:\n",
        "            df[col] = df[col].astype(np.float32)\n",
        "          else: \n",
        "            df[col] = df[col].astype(np.float64)\n",
        "\n",
        "    end_mem = df.memory_usage().sum() / 1024**2\n",
        "    print('Memory usage of dataframe is {:.2f} MB --> {:.2f} MB (Decreased by {:.1f}%)'.format(\n",
        "        start_mem, end_mem, 100*(start_mem - end_mem) / start_mem))\n",
        "    return df"
      ],
      "metadata": {
        "id": "ZPD5xOlgBvuZ"
      },
      "execution_count": null,
      "outputs": []
    },
    {
      "cell_type": "markdown",
      "source": [
        "#Load data"
      ],
      "metadata": {
        "id": "USv2LUlRpANH"
      }
    },
    {
      "cell_type": "code",
      "source": [
        " ! pip install -q kaggle"
      ],
      "metadata": {
        "id": "Qep2YXUGSzGv"
      },
      "execution_count": null,
      "outputs": []
    },
    {
      "cell_type": "code",
      "source": [
        "from google.colab import files\n",
        "my_upload = files.upload()"
      ],
      "metadata": {
        "colab": {
          "resources": {
            "http://localhost:8080/nbextensions/google.colab/files.js": {
              "data": "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",
              "ok": true,
              "headers": [
                [
                  "content-type",
                  "application/javascript"
                ]
              ],
              "status": 200,
              "status_text": ""
            }
          },
          "base_uri": "https://localhost:8080/",
          "height": 74
        },
        "id": "wC1Eq19ufzbJ",
        "outputId": "6ef51068-58d7-423a-a278-346a1e184390"
      },
      "execution_count": null,
      "outputs": [
        {
          "output_type": "display_data",
          "data": {
            "text/plain": [
              "<IPython.core.display.HTML object>"
            ],
            "text/html": [
              "\n",
              "     <input type=\"file\" id=\"files-ab5681c6-2e0e-4493-9e1a-188f15b0d1a3\" name=\"files[]\" multiple disabled\n",
              "        style=\"border:none\" />\n",
              "     <output id=\"result-ab5681c6-2e0e-4493-9e1a-188f15b0d1a3\">\n",
              "      Upload widget is only available when the cell has been executed in the\n",
              "      current browser session. Please rerun this cell to enable.\n",
              "      </output>\n",
              "      <script src=\"/nbextensions/google.colab/files.js\"></script> "
            ]
          },
          "metadata": {}
        },
        {
          "output_type": "stream",
          "name": "stdout",
          "text": [
            "Saving kaggle.json to kaggle.json\n"
          ]
        }
      ]
    },
    {
      "cell_type": "code",
      "source": [
        "! mkdir ~/.kaggle"
      ],
      "metadata": {
        "id": "zRZI1MuUkTWO"
      },
      "execution_count": null,
      "outputs": []
    },
    {
      "cell_type": "code",
      "source": [
        "! cp kaggle.json ~/.kaggle/"
      ],
      "metadata": {
        "id": "6qsHiPB2VJBB"
      },
      "execution_count": null,
      "outputs": []
    },
    {
      "cell_type": "code",
      "source": [
        "! chmod 600 ~/.kaggle/kaggle.json"
      ],
      "metadata": {
        "id": "JdA3kW71Tcgb"
      },
      "execution_count": null,
      "outputs": []
    },
    {
      "cell_type": "code",
      "source": [
        "! kaggle datasets list"
      ],
      "metadata": {
        "colab": {
          "base_uri": "https://localhost:8080/"
        },
        "id": "519zYNhiTm7Y",
        "outputId": "3468d14a-b0e3-4b31-ee5e-6ba1f09fede3"
      },
      "execution_count": null,
      "outputs": [
        {
          "output_type": "stream",
          "name": "stdout",
          "text": [
            "ref                                                             title                                                size  lastUpdated          downloadCount  voteCount  usabilityRating  \n",
            "--------------------------------------------------------------  --------------------------------------------------  -----  -------------------  -------------  ---------  ---------------  \n",
            "victorsoeiro/netflix-tv-shows-and-movies                        Netflix TV Shows and Movies                           2MB  2022-05-15 00:01:23           9378        284  1.0              \n",
            "devansodariya/student-performance-data                          Student Performance Dataset                           7KB  2022-05-26 13:55:09           4977        160  0.9705882        \n",
            "mohamedharris/supermart-grocery-sales-retail-analytics-dataset  Supermart Grocery Sales - Retail Analytics Dataset  191KB  2022-06-12 16:14:44            678         42  0.88235295       \n",
            "sameepvani/nasa-nearest-earth-objects                           NASA - Nearest Earth Objects                          7MB  2022-06-17 02:32:18            326         30  1.0              \n",
            "ruchi798/data-science-job-salaries                              Data Science Job Salaries                             7KB  2022-06-15 08:59:12            644         36  1.0              \n",
            "iamsouravbanerjee/software-professional-salaries-2022           Salary Dataset - 2022                               526KB  2022-06-15 17:13:05           1822         51  1.0              \n",
            "hanzlanawaz/monkeypox-outbreak                                  Monkeypox Outbreak Dataset                           27KB  2022-06-06 03:13:58            731         39  0.9705882        \n",
            "mayureshkoli/police-deaths-in-usa-from-1791-to-2022             Police deaths in USA from 1791 to 2022              698KB  2022-06-09 17:47:57            891         30  1.0              \n",
            "imoore/age-dataset                                              Age dataset: life, work, and death of 1.22M people   34MB  2022-06-07 08:56:52            758         54  1.0              \n",
            "hassanshehzadk/top-50-most-followed-instagram-accounts          Top 50 Most Followed Instagram Accounts               2KB  2022-06-07 06:40:27            431         26  1.0              \n",
            "paradisejoy/top-hits-spotify-from-20002019                      Top Hits Spotify from 2000-2019                      94KB  2022-05-31 07:20:57           7109        166  1.0              \n",
            "saddamazyazy/go-to-college-dataset                              Go To College Dataset                                12KB  2022-05-20 10:46:02           1961         50  1.0              \n",
            "outofskills/driving-behavior                                    Driving Behavior                                    196KB  2022-06-05 09:40:48            393         30  1.0              \n",
            "odins0n/amex-parquet                                            Amex Competition Data in Parquet Format               9GB  2022-05-25 23:20:19            985        126  1.0              \n",
            "dansbecker/melbourne-housing-snapshot                           Melbourne Housing Snapshot                          451KB  2018-06-05 12:52:24          89214       1092  0.7058824        \n",
            "digvijaysinhgohil/imdb-dataset-toprated-films-18982022          IMDb Dataset Top-Rated films 1898-2022               50KB  2022-06-15 08:41:14            319         25  1.0              \n",
            "srivnaman/data-science-and-ai-jobs-indeed                       Data Science and AI Jobs Indeed                      59KB  2022-06-16 16:40:52            174         27  0.88235295       \n",
            "surajjha101/stores-area-and-sales-data                          Supermarket store branches sales analysis            10KB  2022-04-29 11:10:16           7024        193  1.0              \n",
            "ruchi798/parquet-files-amexdefault-prediction                   Feather & Parquet Files : AMEX-Default Prediction    22GB  2022-05-26 05:46:53            700        102  1.0              \n",
            "azminetoushikwasi/ucl-202122-uefa-champions-league              UCL ⚽ 2021-22 ⭐ Players Data | Champions League      55KB  2022-06-20 03:01:18           1582         48  1.0              \n"
          ]
        }
      ]
    },
    {
      "cell_type": "code",
      "source": [
        "! kaggle datasets download -d raddar/amex-data-integer-dtypes-parquet-format"
      ],
      "metadata": {
        "colab": {
          "base_uri": "https://localhost:8080/"
        },
        "id": "Q4vT_ZHaVzhg",
        "outputId": "b95ad962-c922-445a-e8ae-6beaa20ba476"
      },
      "execution_count": null,
      "outputs": [
        {
          "output_type": "stream",
          "name": "stdout",
          "text": [
            "Downloading amex-data-integer-dtypes-parquet-format.zip to /content\n",
            "100% 4.07G/4.07G [00:23<00:00, 132MB/s]\n",
            "100% 4.07G/4.07G [00:23<00:00, 184MB/s]\n"
          ]
        }
      ]
    },
    {
      "cell_type": "code",
      "source": [
        "! mkdir input"
      ],
      "metadata": {
        "id": "9PGgCHYSYjTg"
      },
      "execution_count": null,
      "outputs": []
    },
    {
      "cell_type": "code",
      "source": [
        "! unzip amex-data-integer-dtypes-parquet-format.zip -d input"
      ],
      "metadata": {
        "colab": {
          "base_uri": "https://localhost:8080/"
        },
        "id": "JlOBnPUJZRnX",
        "outputId": "be69d695-56e0-4315-9786-2d7bc8798fd3"
      },
      "execution_count": null,
      "outputs": [
        {
          "output_type": "stream",
          "name": "stdout",
          "text": [
            "Archive:  amex-data-integer-dtypes-parquet-format.zip\n",
            "  inflating: input/test.parquet      \n",
            "  inflating: input/train.parquet     \n"
          ]
        }
      ]
    },
    {
      "cell_type": "code",
      "source": [
        "print(os.listdir('./input'))"
      ],
      "metadata": {
        "colab": {
          "base_uri": "https://localhost:8080/"
        },
        "id": "gLCgk_yVZaU9",
        "outputId": "71650324-4888-4094-dedf-71a99e4db5cf"
      },
      "execution_count": null,
      "outputs": [
        {
          "output_type": "stream",
          "name": "stdout",
          "text": [
            "['train.parquet', 'test.parquet']\n"
          ]
        }
      ]
    },
    {
      "cell_type": "code",
      "source": [
        "my_upload = files.upload()"
      ],
      "metadata": {
        "colab": {
          "resources": {
            "http://localhost:8080/nbextensions/google.colab/files.js": {
              "data": "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",
              "ok": true,
              "headers": [
                [
                  "content-type",
                  "application/javascript"
                ]
              ],
              "status": 200,
              "status_text": ""
            }
          },
          "base_uri": "https://localhost:8080/",
          "height": 74
        },
        "id": "ZL6VNQURkerH",
        "outputId": "95ed1151-bed3-49ad-88c0-ba6d23264b01"
      },
      "execution_count": null,
      "outputs": [
        {
          "output_type": "display_data",
          "data": {
            "text/plain": [
              "<IPython.core.display.HTML object>"
            ],
            "text/html": [
              "\n",
              "     <input type=\"file\" id=\"files-cbd57c99-7928-4c0a-8b88-6ddb2a66dc4d\" name=\"files[]\" multiple disabled\n",
              "        style=\"border:none\" />\n",
              "     <output id=\"result-cbd57c99-7928-4c0a-8b88-6ddb2a66dc4d\">\n",
              "      Upload widget is only available when the cell has been executed in the\n",
              "      current browser session. Please rerun this cell to enable.\n",
              "      </output>\n",
              "      <script src=\"/nbextensions/google.colab/files.js\"></script> "
            ]
          },
          "metadata": {}
        },
        {
          "output_type": "stream",
          "name": "stdout",
          "text": [
            "Saving train_labels.csv to train_labels.csv\n"
          ]
        }
      ]
    },
    {
      "cell_type": "code",
      "source": [
        "! mv train_labels.csv input"
      ],
      "metadata": {
        "id": "stYoXgWVnxD_"
      },
      "execution_count": null,
      "outputs": []
    },
    {
      "cell_type": "code",
      "source": [
        "train_df = pd.read_parquet('./input/train.parquet')\n",
        "test_df = pd.read_parquet('./input/test.parquet')\n",
        "train_labels_df = pd.read_csv('./input/train_labels.csv')\n",
        "print('train_df shape: ', train_df.shape)\n",
        "print('train_labels_df shape: ', train_labels_df.shape)\n",
        "print('test_df shape: ', test_df.shape)"
      ],
      "metadata": {
        "colab": {
          "base_uri": "https://localhost:8080/"
        },
        "id": "8X76a0fxAnXf",
        "outputId": "d89518a4-bf62-4422-d8f6-58c20062d23a"
      },
      "execution_count": null,
      "outputs": [
        {
          "output_type": "stream",
          "name": "stdout",
          "text": [
            "train_df shape:  (5531451, 190)\n",
            "train_labels_df shape:  (458913, 2)\n",
            "test_df shape:  (11363762, 190)\n"
          ]
        }
      ]
    },
    {
      "cell_type": "code",
      "source": [
        "train_df.info()"
      ],
      "metadata": {
        "colab": {
          "base_uri": "https://localhost:8080/"
        },
        "id": "lJrrJZ-rGGRf",
        "outputId": "c7a12f6e-0bd7-480f-9224-6feb85d8b194"
      },
      "execution_count": null,
      "outputs": [
        {
          "output_type": "stream",
          "name": "stdout",
          "text": [
            "<class 'pandas.core.frame.DataFrame'>\n",
            "RangeIndex: 5531451 entries, 0 to 5531450\n",
            "Columns: 190 entries, customer_ID to D_145\n",
            "dtypes: float32(93), int16(9), int8(86), object(2)\n",
            "memory usage: 2.5+ GB\n"
          ]
        }
      ]
    },
    {
      "cell_type": "code",
      "source": [
        "train_df.describe()"
      ],
      "metadata": {
        "colab": {
          "base_uri": "https://localhost:8080/",
          "height": 411
        },
        "id": "kuVul4MKuR8i",
        "outputId": "449a1057-aa70-4c2e-e6a5-0b387a971aec"
      },
      "execution_count": null,
      "outputs": [
        {
          "output_type": "execute_result",
          "data": {
            "text/plain": [
              "                P_2          D_39           B_1           B_2           R_1  \\\n",
              "count  5.485466e+06  5.531451e+06  5.531451e+06  5.529435e+06  5.531451e+06   \n",
              "mean   6.563343e-01  5.035986e+00  1.240101e-01  6.214890e-01  7.880273e-02   \n",
              "std    2.446494e-01  9.181833e+00  2.119869e-01  4.014876e-01  2.263971e-01   \n",
              "min   -4.589548e-01  0.000000e+00 -7.588799e+00  9.192280e-09  1.534223e-09   \n",
              "25%    4.803307e-01  0.000000e+00  8.863645e-03  1.053313e-01  2.895934e-03   \n",
              "50%    6.942950e-01  0.000000e+00  3.132968e-02  8.143328e-01  5.782230e-03   \n",
              "75%    8.648159e-01  8.000000e+00  1.259019e-01  1.002403e+00  8.660590e-03   \n",
              "max    1.010000e+00  1.830000e+02  1.324060e+00  1.010000e+00  3.256284e+00   \n",
              "\n",
              "                S_3          D_41           B_3           D_42          D_43  \\\n",
              "count  4.510907e+06  5.529435e+06  5.529435e+06  791314.000000  3.873055e+06   \n",
              "mean   2.258454e-01  5.543458e-02  1.325390e-01       0.184974  1.546841e-01   \n",
              "std    1.933475e-01  2.037066e-01  2.349929e-01       0.228185  2.133977e-01   \n",
              "min   -6.271321e-01  0.000000e+00  6.285293e-09      -0.000454  1.154550e-07   \n",
              "25%    1.272588e-01  0.000000e+00  5.227570e-03       0.037516  4.227546e-02   \n",
              "50%    1.639082e-01  0.000000e+00  9.777229e-03       0.120519  8.851244e-02   \n",
              "75%    2.581017e-01  0.000000e+00  1.550507e-01       0.250869  1.843206e-01   \n",
              "max    5.482888e+00  8.988807e+00  1.625262e+00       4.191119  1.011162e+01   \n",
              "\n",
              "       ...         D_136         D_137         D_138         D_139  \\\n",
              "count  ...  5.531451e+06  5.531451e+06  5.531451e+06  5.531451e+06   \n",
              "mean   ... -9.313243e-01 -9.644764e-01 -9.535646e-01  1.523781e-01   \n",
              "std    ...  3.926067e-01  1.868469e-01  2.629447e-01  4.072783e-01   \n",
              "min    ... -1.000000e+00 -1.000000e+00 -1.000000e+00 -1.000000e+00   \n",
              "25%    ... -1.000000e+00 -1.000000e+00 -1.000000e+00  0.000000e+00   \n",
              "50%    ... -1.000000e+00 -1.000000e+00 -1.000000e+00  0.000000e+00   \n",
              "75%    ... -1.000000e+00 -1.000000e+00 -1.000000e+00  0.000000e+00   \n",
              "max    ...  7.000000e+00  1.000000e+00  6.000000e+00  1.000000e+00   \n",
              "\n",
              "              D_140         D_141          D_142         D_143         D_144  \\\n",
              "count  5.531451e+06  5.429903e+06  944408.000000  5.531451e+06  5.490724e+06   \n",
              "mean   1.413933e-02  1.603911e-01       0.390799  1.522530e-01  5.238953e-02   \n",
              "std    1.692060e-01  3.501590e-01       0.236182  4.071715e-01  1.825135e-01   \n",
              "min   -1.000000e+00  0.000000e+00      -0.014539 -1.000000e+00  2.500991e-09   \n",
              "25%    0.000000e+00  0.000000e+00       0.199399  0.000000e+00  2.752895e-03   \n",
              "50%    0.000000e+00  0.000000e+00       0.382136  0.000000e+00  5.508129e-03   \n",
              "75%    0.000000e+00  0.000000e+00       0.559307  0.000000e+00  8.260448e-03   \n",
              "max    1.000000e+00  1.339910e+00       2.229368  1.000000e+00  1.343331e+00   \n",
              "\n",
              "              D_145  \n",
              "count  5.531451e+06  \n",
              "mean   6.007445e-01  \n",
              "std    2.119894e+00  \n",
              "min   -1.000000e+00  \n",
              "25%    0.000000e+00  \n",
              "50%    0.000000e+00  \n",
              "75%    0.000000e+00  \n",
              "max    5.300000e+01  \n",
              "\n",
              "[8 rows x 188 columns]"
            ],
            "text/html": [
              "\n",
              "  <div id=\"df-6a33e3cb-d9ec-43e5-883b-bc3d89dbae3d\">\n",
              "    <div class=\"colab-df-container\">\n",
              "      <div>\n",
              "<style scoped>\n",
              "    .dataframe tbody tr th:only-of-type {\n",
              "        vertical-align: middle;\n",
              "    }\n",
              "\n",
              "    .dataframe tbody tr th {\n",
              "        vertical-align: top;\n",
              "    }\n",
              "\n",
              "    .dataframe thead th {\n",
              "        text-align: right;\n",
              "    }\n",
              "</style>\n",
              "<table border=\"1\" class=\"dataframe\">\n",
              "  <thead>\n",
              "    <tr style=\"text-align: right;\">\n",
              "      <th></th>\n",
              "      <th>P_2</th>\n",
              "      <th>D_39</th>\n",
              "      <th>B_1</th>\n",
              "      <th>B_2</th>\n",
              "      <th>R_1</th>\n",
              "      <th>S_3</th>\n",
              "      <th>D_41</th>\n",
              "      <th>B_3</th>\n",
              "      <th>D_42</th>\n",
              "      <th>D_43</th>\n",
              "      <th>...</th>\n",
              "      <th>D_136</th>\n",
              "      <th>D_137</th>\n",
              "      <th>D_138</th>\n",
              "      <th>D_139</th>\n",
              "      <th>D_140</th>\n",
              "      <th>D_141</th>\n",
              "      <th>D_142</th>\n",
              "      <th>D_143</th>\n",
              "      <th>D_144</th>\n",
              "      <th>D_145</th>\n",
              "    </tr>\n",
              "  </thead>\n",
              "  <tbody>\n",
              "    <tr>\n",
              "      <th>count</th>\n",
              "      <td>5.485466e+06</td>\n",
              "      <td>5.531451e+06</td>\n",
              "      <td>5.531451e+06</td>\n",
              "      <td>5.529435e+06</td>\n",
              "      <td>5.531451e+06</td>\n",
              "      <td>4.510907e+06</td>\n",
              "      <td>5.529435e+06</td>\n",
              "      <td>5.529435e+06</td>\n",
              "      <td>791314.000000</td>\n",
              "      <td>3.873055e+06</td>\n",
              "      <td>...</td>\n",
              "      <td>5.531451e+06</td>\n",
              "      <td>5.531451e+06</td>\n",
              "      <td>5.531451e+06</td>\n",
              "      <td>5.531451e+06</td>\n",
              "      <td>5.531451e+06</td>\n",
              "      <td>5.429903e+06</td>\n",
              "      <td>944408.000000</td>\n",
              "      <td>5.531451e+06</td>\n",
              "      <td>5.490724e+06</td>\n",
              "      <td>5.531451e+06</td>\n",
              "    </tr>\n",
              "    <tr>\n",
              "      <th>mean</th>\n",
              "      <td>6.563343e-01</td>\n",
              "      <td>5.035986e+00</td>\n",
              "      <td>1.240101e-01</td>\n",
              "      <td>6.214890e-01</td>\n",
              "      <td>7.880273e-02</td>\n",
              "      <td>2.258454e-01</td>\n",
              "      <td>5.543458e-02</td>\n",
              "      <td>1.325390e-01</td>\n",
              "      <td>0.184974</td>\n",
              "      <td>1.546841e-01</td>\n",
              "      <td>...</td>\n",
              "      <td>-9.313243e-01</td>\n",
              "      <td>-9.644764e-01</td>\n",
              "      <td>-9.535646e-01</td>\n",
              "      <td>1.523781e-01</td>\n",
              "      <td>1.413933e-02</td>\n",
              "      <td>1.603911e-01</td>\n",
              "      <td>0.390799</td>\n",
              "      <td>1.522530e-01</td>\n",
              "      <td>5.238953e-02</td>\n",
              "      <td>6.007445e-01</td>\n",
              "    </tr>\n",
              "    <tr>\n",
              "      <th>std</th>\n",
              "      <td>2.446494e-01</td>\n",
              "      <td>9.181833e+00</td>\n",
              "      <td>2.119869e-01</td>\n",
              "      <td>4.014876e-01</td>\n",
              "      <td>2.263971e-01</td>\n",
              "      <td>1.933475e-01</td>\n",
              "      <td>2.037066e-01</td>\n",
              "      <td>2.349929e-01</td>\n",
              "      <td>0.228185</td>\n",
              "      <td>2.133977e-01</td>\n",
              "      <td>...</td>\n",
              "      <td>3.926067e-01</td>\n",
              "      <td>1.868469e-01</td>\n",
              "      <td>2.629447e-01</td>\n",
              "      <td>4.072783e-01</td>\n",
              "      <td>1.692060e-01</td>\n",
              "      <td>3.501590e-01</td>\n",
              "      <td>0.236182</td>\n",
              "      <td>4.071715e-01</td>\n",
              "      <td>1.825135e-01</td>\n",
              "      <td>2.119894e+00</td>\n",
              "    </tr>\n",
              "    <tr>\n",
              "      <th>min</th>\n",
              "      <td>-4.589548e-01</td>\n",
              "      <td>0.000000e+00</td>\n",
              "      <td>-7.588799e+00</td>\n",
              "      <td>9.192280e-09</td>\n",
              "      <td>1.534223e-09</td>\n",
              "      <td>-6.271321e-01</td>\n",
              "      <td>0.000000e+00</td>\n",
              "      <td>6.285293e-09</td>\n",
              "      <td>-0.000454</td>\n",
              "      <td>1.154550e-07</td>\n",
              "      <td>...</td>\n",
              "      <td>-1.000000e+00</td>\n",
              "      <td>-1.000000e+00</td>\n",
              "      <td>-1.000000e+00</td>\n",
              "      <td>-1.000000e+00</td>\n",
              "      <td>-1.000000e+00</td>\n",
              "      <td>0.000000e+00</td>\n",
              "      <td>-0.014539</td>\n",
              "      <td>-1.000000e+00</td>\n",
              "      <td>2.500991e-09</td>\n",
              "      <td>-1.000000e+00</td>\n",
              "    </tr>\n",
              "    <tr>\n",
              "      <th>25%</th>\n",
              "      <td>4.803307e-01</td>\n",
              "      <td>0.000000e+00</td>\n",
              "      <td>8.863645e-03</td>\n",
              "      <td>1.053313e-01</td>\n",
              "      <td>2.895934e-03</td>\n",
              "      <td>1.272588e-01</td>\n",
              "      <td>0.000000e+00</td>\n",
              "      <td>5.227570e-03</td>\n",
              "      <td>0.037516</td>\n",
              "      <td>4.227546e-02</td>\n",
              "      <td>...</td>\n",
              "      <td>-1.000000e+00</td>\n",
              "      <td>-1.000000e+00</td>\n",
              "      <td>-1.000000e+00</td>\n",
              "      <td>0.000000e+00</td>\n",
              "      <td>0.000000e+00</td>\n",
              "      <td>0.000000e+00</td>\n",
              "      <td>0.199399</td>\n",
              "      <td>0.000000e+00</td>\n",
              "      <td>2.752895e-03</td>\n",
              "      <td>0.000000e+00</td>\n",
              "    </tr>\n",
              "    <tr>\n",
              "      <th>50%</th>\n",
              "      <td>6.942950e-01</td>\n",
              "      <td>0.000000e+00</td>\n",
              "      <td>3.132968e-02</td>\n",
              "      <td>8.143328e-01</td>\n",
              "      <td>5.782230e-03</td>\n",
              "      <td>1.639082e-01</td>\n",
              "      <td>0.000000e+00</td>\n",
              "      <td>9.777229e-03</td>\n",
              "      <td>0.120519</td>\n",
              "      <td>8.851244e-02</td>\n",
              "      <td>...</td>\n",
              "      <td>-1.000000e+00</td>\n",
              "      <td>-1.000000e+00</td>\n",
              "      <td>-1.000000e+00</td>\n",
              "      <td>0.000000e+00</td>\n",
              "      <td>0.000000e+00</td>\n",
              "      <td>0.000000e+00</td>\n",
              "      <td>0.382136</td>\n",
              "      <td>0.000000e+00</td>\n",
              "      <td>5.508129e-03</td>\n",
              "      <td>0.000000e+00</td>\n",
              "    </tr>\n",
              "    <tr>\n",
              "      <th>75%</th>\n",
              "      <td>8.648159e-01</td>\n",
              "      <td>8.000000e+00</td>\n",
              "      <td>1.259019e-01</td>\n",
              "      <td>1.002403e+00</td>\n",
              "      <td>8.660590e-03</td>\n",
              "      <td>2.581017e-01</td>\n",
              "      <td>0.000000e+00</td>\n",
              "      <td>1.550507e-01</td>\n",
              "      <td>0.250869</td>\n",
              "      <td>1.843206e-01</td>\n",
              "      <td>...</td>\n",
              "      <td>-1.000000e+00</td>\n",
              "      <td>-1.000000e+00</td>\n",
              "      <td>-1.000000e+00</td>\n",
              "      <td>0.000000e+00</td>\n",
              "      <td>0.000000e+00</td>\n",
              "      <td>0.000000e+00</td>\n",
              "      <td>0.559307</td>\n",
              "      <td>0.000000e+00</td>\n",
              "      <td>8.260448e-03</td>\n",
              "      <td>0.000000e+00</td>\n",
              "    </tr>\n",
              "    <tr>\n",
              "      <th>max</th>\n",
              "      <td>1.010000e+00</td>\n",
              "      <td>1.830000e+02</td>\n",
              "      <td>1.324060e+00</td>\n",
              "      <td>1.010000e+00</td>\n",
              "      <td>3.256284e+00</td>\n",
              "      <td>5.482888e+00</td>\n",
              "      <td>8.988807e+00</td>\n",
              "      <td>1.625262e+00</td>\n",
              "      <td>4.191119</td>\n",
              "      <td>1.011162e+01</td>\n",
              "      <td>...</td>\n",
              "      <td>7.000000e+00</td>\n",
              "      <td>1.000000e+00</td>\n",
              "      <td>6.000000e+00</td>\n",
              "      <td>1.000000e+00</td>\n",
              "      <td>1.000000e+00</td>\n",
              "      <td>1.339910e+00</td>\n",
              "      <td>2.229368</td>\n",
              "      <td>1.000000e+00</td>\n",
              "      <td>1.343331e+00</td>\n",
              "      <td>5.300000e+01</td>\n",
              "    </tr>\n",
              "  </tbody>\n",
              "</table>\n",
              "<p>8 rows × 188 columns</p>\n",
              "</div>\n",
              "      <button class=\"colab-df-convert\" onclick=\"convertToInteractive('df-6a33e3cb-d9ec-43e5-883b-bc3d89dbae3d')\"\n",
              "              title=\"Convert this dataframe to an interactive table.\"\n",
              "              style=\"display:none;\">\n",
              "        \n",
              "  <svg xmlns=\"http://www.w3.org/2000/svg\" height=\"24px\"viewBox=\"0 0 24 24\"\n",
              "       width=\"24px\">\n",
              "    <path d=\"M0 0h24v24H0V0z\" fill=\"none\"/>\n",
              "    <path d=\"M18.56 5.44l.94 2.06.94-2.06 2.06-.94-2.06-.94-.94-2.06-.94 2.06-2.06.94zm-11 1L8.5 8.5l.94-2.06 2.06-.94-2.06-.94L8.5 2.5l-.94 2.06-2.06.94zm10 10l.94 2.06.94-2.06 2.06-.94-2.06-.94-.94-2.06-.94 2.06-2.06.94z\"/><path d=\"M17.41 7.96l-1.37-1.37c-.4-.4-.92-.59-1.43-.59-.52 0-1.04.2-1.43.59L10.3 9.45l-7.72 7.72c-.78.78-.78 2.05 0 2.83L4 21.41c.39.39.9.59 1.41.59.51 0 1.02-.2 1.41-.59l7.78-7.78 2.81-2.81c.8-.78.8-2.07 0-2.86zM5.41 20L4 18.59l7.72-7.72 1.47 1.35L5.41 20z\"/>\n",
              "  </svg>\n",
              "      </button>\n",
              "      \n",
              "  <style>\n",
              "    .colab-df-container {\n",
              "      display:flex;\n",
              "      flex-wrap:wrap;\n",
              "      gap: 12px;\n",
              "    }\n",
              "\n",
              "    .colab-df-convert {\n",
              "      background-color: #E8F0FE;\n",
              "      border: none;\n",
              "      border-radius: 50%;\n",
              "      cursor: pointer;\n",
              "      display: none;\n",
              "      fill: #1967D2;\n",
              "      height: 32px;\n",
              "      padding: 0 0 0 0;\n",
              "      width: 32px;\n",
              "    }\n",
              "\n",
              "    .colab-df-convert:hover {\n",
              "      background-color: #E2EBFA;\n",
              "      box-shadow: 0px 1px 2px rgba(60, 64, 67, 0.3), 0px 1px 3px 1px rgba(60, 64, 67, 0.15);\n",
              "      fill: #174EA6;\n",
              "    }\n",
              "\n",
              "    [theme=dark] .colab-df-convert {\n",
              "      background-color: #3B4455;\n",
              "      fill: #D2E3FC;\n",
              "    }\n",
              "\n",
              "    [theme=dark] .colab-df-convert:hover {\n",
              "      background-color: #434B5C;\n",
              "      box-shadow: 0px 1px 3px 1px rgba(0, 0, 0, 0.15);\n",
              "      filter: drop-shadow(0px 1px 2px rgba(0, 0, 0, 0.3));\n",
              "      fill: #FFFFFF;\n",
              "    }\n",
              "  </style>\n",
              "\n",
              "      <script>\n",
              "        const buttonEl =\n",
              "          document.querySelector('#df-6a33e3cb-d9ec-43e5-883b-bc3d89dbae3d button.colab-df-convert');\n",
              "        buttonEl.style.display =\n",
              "          google.colab.kernel.accessAllowed ? 'block' : 'none';\n",
              "\n",
              "        async function convertToInteractive(key) {\n",
              "          const element = document.querySelector('#df-6a33e3cb-d9ec-43e5-883b-bc3d89dbae3d');\n",
              "          const dataTable =\n",
              "            await google.colab.kernel.invokeFunction('convertToInteractive',\n",
              "                                                     [key], {});\n",
              "          if (!dataTable) return;\n",
              "\n",
              "          const docLinkHtml = 'Like what you see? Visit the ' +\n",
              "            '<a target=\"_blank\" href=https://colab.research.google.com/notebooks/data_table.ipynb>data table notebook</a>'\n",
              "            + ' to learn more about interactive tables.';\n",
              "          element.innerHTML = '';\n",
              "          dataTable['output_type'] = 'display_data';\n",
              "          await google.colab.output.renderOutput(dataTable, element);\n",
              "          const docLink = document.createElement('div');\n",
              "          docLink.innerHTML = docLinkHtml;\n",
              "          element.appendChild(docLink);\n",
              "        }\n",
              "      </script>\n",
              "    </div>\n",
              "  </div>\n",
              "  "
            ]
          },
          "metadata": {},
          "execution_count": 21
        }
      ]
    },
    {
      "cell_type": "markdown",
      "source": [
        "#EDA\n",
        "(피처가 너무 많아서 하나하나 distribution을 보기 어려울 때는 어떻게 해야 할까?\n",
        "일단 하는데까지 해보고 다른 사람들이 어떻게 했는지 봐야겠다...)"
      ],
      "metadata": {
        "id": "9HXKqGmPGjCs"
      }
    },
    {
      "cell_type": "markdown",
      "source": [
        "## Train dataset label distribution\n",
        "0이 1보다 훨씬 많으므로 이를 고려한 평가지표를 사용해야 한다. "
      ],
      "metadata": {
        "id": "ETlmNKmNGoaB"
      }
    },
    {
      "cell_type": "code",
      "source": [
        "train_labels_df['target'].value_counts()"
      ],
      "metadata": {
        "colab": {
          "base_uri": "https://localhost:8080/"
        },
        "id": "DTcJzKy_u3sa",
        "outputId": "9a7c8565-6d8e-4050-f75e-cad15fd35b57"
      },
      "execution_count": null,
      "outputs": [
        {
          "output_type": "execute_result",
          "data": {
            "text/plain": [
              "0    340085\n",
              "1    118828\n",
              "Name: target, dtype: int64"
            ]
          },
          "metadata": {},
          "execution_count": 23
        }
      ]
    },
    {
      "cell_type": "markdown",
      "source": [
        "#String columns\n",
        "첫번째 칼럼은 'customer ID'로, 마지막 16글자만 따와 int64 타입으로 바꾼다.  \n",
        "두번째 칼렴 'S_2'는 년/월/일로, datetime object로 바꾼다.  \n",
        "  \n",
        "'S_2'의 분포를 살펴보면 2017년 3월 - 2018년 3월 총 369일 값을 모두 가진다.  \n",
        "(아마 customer마다 결제일이 달라서?)  \n",
        "customer_ID별 'S_2'의 분포를 살펴보면 customer의 85%는 열세달 모두 데이터가 있지만  \n",
        "나머지 15%는 데이터가 없다. (이 부분을 모델 학습 시킬 때 어떻게 처리하면 될지...)  \n",
        "날짜는 필요없으므로 (to_period('M') 사용 )년/월만 남겨도 될 것 같다. 또한 년/월대신 1-13까지 숫자를 붙여도 될 것 같다. \n",
        "\n",
        "\n"
      ],
      "metadata": {
        "id": "wv15nXiQwctT"
      }
    },
    {
      "cell_type": "code",
      "source": [
        "# String타입 칼럼을 확인\n",
        "train_str_df = train_df.select_dtypes(include='object')\n",
        "train_str_df.head()\n",
        "del train_str_df\n",
        "\n",
        "# train_df.select_dtypes(include='object').head() 면 한줄이면 됨"
      ],
      "metadata": {
        "colab": {
          "base_uri": "https://localhost:8080/",
          "height": 206
        },
        "id": "2VfKppp5vALS",
        "outputId": "f5c0de39-de26-4deb-a688-162d9eafc9ad"
      },
      "execution_count": null,
      "outputs": [
        {
          "output_type": "execute_result",
          "data": {
            "text/plain": [
              "                                         customer_ID         S_2\n",
              "0  0000099d6bd597052cdcda90ffabf56573fe9d7c79be5f...  2017-03-09\n",
              "1  0000099d6bd597052cdcda90ffabf56573fe9d7c79be5f...  2017-04-07\n",
              "2  0000099d6bd597052cdcda90ffabf56573fe9d7c79be5f...  2017-05-28\n",
              "3  0000099d6bd597052cdcda90ffabf56573fe9d7c79be5f...  2017-06-13\n",
              "4  0000099d6bd597052cdcda90ffabf56573fe9d7c79be5f...  2017-07-16"
            ],
            "text/html": [
              "\n",
              "  <div id=\"df-7e8e4ed7-931a-4a3c-9618-52cd7dace8da\">\n",
              "    <div class=\"colab-df-container\">\n",
              "      <div>\n",
              "<style scoped>\n",
              "    .dataframe tbody tr th:only-of-type {\n",
              "        vertical-align: middle;\n",
              "    }\n",
              "\n",
              "    .dataframe tbody tr th {\n",
              "        vertical-align: top;\n",
              "    }\n",
              "\n",
              "    .dataframe thead th {\n",
              "        text-align: right;\n",
              "    }\n",
              "</style>\n",
              "<table border=\"1\" class=\"dataframe\">\n",
              "  <thead>\n",
              "    <tr style=\"text-align: right;\">\n",
              "      <th></th>\n",
              "      <th>customer_ID</th>\n",
              "      <th>S_2</th>\n",
              "    </tr>\n",
              "  </thead>\n",
              "  <tbody>\n",
              "    <tr>\n",
              "      <th>0</th>\n",
              "      <td>0000099d6bd597052cdcda90ffabf56573fe9d7c79be5f...</td>\n",
              "      <td>2017-03-09</td>\n",
              "    </tr>\n",
              "    <tr>\n",
              "      <th>1</th>\n",
              "      <td>0000099d6bd597052cdcda90ffabf56573fe9d7c79be5f...</td>\n",
              "      <td>2017-04-07</td>\n",
              "    </tr>\n",
              "    <tr>\n",
              "      <th>2</th>\n",
              "      <td>0000099d6bd597052cdcda90ffabf56573fe9d7c79be5f...</td>\n",
              "      <td>2017-05-28</td>\n",
              "    </tr>\n",
              "    <tr>\n",
              "      <th>3</th>\n",
              "      <td>0000099d6bd597052cdcda90ffabf56573fe9d7c79be5f...</td>\n",
              "      <td>2017-06-13</td>\n",
              "    </tr>\n",
              "    <tr>\n",
              "      <th>4</th>\n",
              "      <td>0000099d6bd597052cdcda90ffabf56573fe9d7c79be5f...</td>\n",
              "      <td>2017-07-16</td>\n",
              "    </tr>\n",
              "  </tbody>\n",
              "</table>\n",
              "</div>\n",
              "      <button class=\"colab-df-convert\" onclick=\"convertToInteractive('df-7e8e4ed7-931a-4a3c-9618-52cd7dace8da')\"\n",
              "              title=\"Convert this dataframe to an interactive table.\"\n",
              "              style=\"display:none;\">\n",
              "        \n",
              "  <svg xmlns=\"http://www.w3.org/2000/svg\" height=\"24px\"viewBox=\"0 0 24 24\"\n",
              "       width=\"24px\">\n",
              "    <path d=\"M0 0h24v24H0V0z\" fill=\"none\"/>\n",
              "    <path d=\"M18.56 5.44l.94 2.06.94-2.06 2.06-.94-2.06-.94-.94-2.06-.94 2.06-2.06.94zm-11 1L8.5 8.5l.94-2.06 2.06-.94-2.06-.94L8.5 2.5l-.94 2.06-2.06.94zm10 10l.94 2.06.94-2.06 2.06-.94-2.06-.94-.94-2.06-.94 2.06-2.06.94z\"/><path d=\"M17.41 7.96l-1.37-1.37c-.4-.4-.92-.59-1.43-.59-.52 0-1.04.2-1.43.59L10.3 9.45l-7.72 7.72c-.78.78-.78 2.05 0 2.83L4 21.41c.39.39.9.59 1.41.59.51 0 1.02-.2 1.41-.59l7.78-7.78 2.81-2.81c.8-.78.8-2.07 0-2.86zM5.41 20L4 18.59l7.72-7.72 1.47 1.35L5.41 20z\"/>\n",
              "  </svg>\n",
              "      </button>\n",
              "      \n",
              "  <style>\n",
              "    .colab-df-container {\n",
              "      display:flex;\n",
              "      flex-wrap:wrap;\n",
              "      gap: 12px;\n",
              "    }\n",
              "\n",
              "    .colab-df-convert {\n",
              "      background-color: #E8F0FE;\n",
              "      border: none;\n",
              "      border-radius: 50%;\n",
              "      cursor: pointer;\n",
              "      display: none;\n",
              "      fill: #1967D2;\n",
              "      height: 32px;\n",
              "      padding: 0 0 0 0;\n",
              "      width: 32px;\n",
              "    }\n",
              "\n",
              "    .colab-df-convert:hover {\n",
              "      background-color: #E2EBFA;\n",
              "      box-shadow: 0px 1px 2px rgba(60, 64, 67, 0.3), 0px 1px 3px 1px rgba(60, 64, 67, 0.15);\n",
              "      fill: #174EA6;\n",
              "    }\n",
              "\n",
              "    [theme=dark] .colab-df-convert {\n",
              "      background-color: #3B4455;\n",
              "      fill: #D2E3FC;\n",
              "    }\n",
              "\n",
              "    [theme=dark] .colab-df-convert:hover {\n",
              "      background-color: #434B5C;\n",
              "      box-shadow: 0px 1px 3px 1px rgba(0, 0, 0, 0.15);\n",
              "      filter: drop-shadow(0px 1px 2px rgba(0, 0, 0, 0.3));\n",
              "      fill: #FFFFFF;\n",
              "    }\n",
              "  </style>\n",
              "\n",
              "      <script>\n",
              "        const buttonEl =\n",
              "          document.querySelector('#df-7e8e4ed7-931a-4a3c-9618-52cd7dace8da button.colab-df-convert');\n",
              "        buttonEl.style.display =\n",
              "          google.colab.kernel.accessAllowed ? 'block' : 'none';\n",
              "\n",
              "        async function convertToInteractive(key) {\n",
              "          const element = document.querySelector('#df-7e8e4ed7-931a-4a3c-9618-52cd7dace8da');\n",
              "          const dataTable =\n",
              "            await google.colab.kernel.invokeFunction('convertToInteractive',\n",
              "                                                     [key], {});\n",
              "          if (!dataTable) return;\n",
              "\n",
              "          const docLinkHtml = 'Like what you see? Visit the ' +\n",
              "            '<a target=\"_blank\" href=https://colab.research.google.com/notebooks/data_table.ipynb>data table notebook</a>'\n",
              "            + ' to learn more about interactive tables.';\n",
              "          element.innerHTML = '';\n",
              "          dataTable['output_type'] = 'display_data';\n",
              "          await google.colab.output.renderOutput(dataTable, element);\n",
              "          const docLink = document.createElement('div');\n",
              "          docLink.innerHTML = docLinkHtml;\n",
              "          element.appendChild(docLink);\n",
              "        }\n",
              "      </script>\n",
              "    </div>\n",
              "  </div>\n",
              "  "
            ]
          },
          "metadata": {},
          "execution_count": 24
        }
      ]
    },
    {
      "cell_type": "code",
      "source": [
        "# customer_ID의 데이터 타입 변환 (str > int64)\n",
        "print('변환 전 customer_ID 종류 수: ', train_df['customer_ID'].nunique())\n",
        "train_df['customer_ID'] = train_df['customer_ID'].str[-16:].apply(int, base=16).astype(np.int64)\n",
        "print('변환 후 customer_ID 종류 수: ', train_df['customer_ID'].nunique())"
      ],
      "metadata": {
        "id": "LbAZeSyywLio"
      },
      "execution_count": null,
      "outputs": []
    },
    {
      "cell_type": "code",
      "source": [
        "# S_2의 데이터 타입 변환 (str > datetime)\n",
        "train_df['S_2'] = pd.to_datetime(train_df['S_2'] )\n",
        "print(train_df['S_2'].dtype)"
      ],
      "metadata": {
        "id": "7B7omcN4wyXF"
      },
      "execution_count": null,
      "outputs": []
    },
    {
      "cell_type": "code",
      "source": [
        "# s_2의 분포를 확인 >> 365 + 31 = 396, 13개월 기간의 모든 날짜가 존재. \n",
        "print(train_df['S_2'].nunique()) "
      ],
      "metadata": {
        "colab": {
          "base_uri": "https://localhost:8080/"
        },
        "id": "kfDFHq9n4T-q",
        "outputId": "1cc3d97e-f9f5-4fd1-9212-564ff32fea30"
      },
      "execution_count": null,
      "outputs": [
        {
          "output_type": "execute_result",
          "data": {
            "text/plain": [
              "396"
            ]
          },
          "metadata": {},
          "execution_count": 50
        }
      ]
    },
    {
      "cell_type": "code",
      "source": [
        "# customer_ID 별로 S_2의 분포 확인\n",
        "customer_data_count = train_df.groupby('customer_ID')['S_2'].count()\n",
        "customer_data_count.value_counts()\n",
        "del customer_data_count"
      ],
      "metadata": {
        "id": "m74rAeVbw3RO",
        "colab": {
          "base_uri": "https://localhost:8080/"
        },
        "outputId": "b7b2e465-2ce1-4ee3-9eba-c503db42783d"
      },
      "execution_count": null,
      "outputs": [
        {
          "output_type": "execute_result",
          "data": {
            "text/plain": [
              "13    386034\n",
              "12     10623\n",
              "10      6721\n",
              "9       6411\n",
              "8       6110\n",
              "2       6098\n",
              "11      5961\n",
              "3       5778\n",
              "6       5515\n",
              "7       5198\n",
              "1       5120\n",
              "4       4673\n",
              "5       4671\n",
              "Name: S_2, dtype: int64"
            ]
          },
          "metadata": {},
          "execution_count": 47
        }
      ]
    },
    {
      "cell_type": "markdown",
      "source": [
        "# Integer columns\n",
        "칼럼별로 unique한 값의 수를 보면 모두 사실 category형 데이터임을 알 수 있다.  \n",
        "특히 많은 수는 binary이다.  \n",
        "encoding을 해야할 것 같다.  \n",
        "  \n",
        "어떤 피처는 target 피처와 연관이 많을 수 있을 것 같다.  \n",
        "또한 어떤 피처들은 서로 관련이 있을 수 있을 것 같다. \n",
        "correlation으로 확인...  \n",
        "보통 그 외에 더하기, 곱하기 등으로 관련되는 피처는 어떻게 찾는지? "
      ],
      "metadata": {
        "id": "hEubLR-w8INM"
      }
    },
    {
      "cell_type": "code",
      "source": [
        "train_int_df = train_df.select_dtypes(include='integer')\n",
        "print('integer 칼럼의 수:', len(train_int_df.columns))\n",
        "for col in train_int_df.columns[1:]:\n",
        "  print('{0} 칼럼 unique한 값의 수: '.format(col)  , train_int_df[col].nunique())\n",
        "\n",
        "del train_int_df"
      ],
      "metadata": {
        "colab": {
          "base_uri": "https://localhost:8080/"
        },
        "id": "B1jOoOzg8cp3",
        "outputId": "4223b65d-1d6c-4824-eb74-730b90002c4a"
      },
      "execution_count": null,
      "outputs": [
        {
          "output_type": "stream",
          "name": "stdout",
          "text": [
            "integer 칼럼의 수: 96\n",
            "D_39 칼럼 unique한 값의 수:  180\n",
            "D_44 칼럼 unique한 값의 수:  38\n",
            "B_4 칼럼 unique한 값의 수:  293\n",
            "R_2 칼럼 unique한 값의 수:  2\n",
            "D_49 칼럼 unique한 값의 수:  321\n",
            "D_51 칼럼 unique한 값의 수:  9\n",
            "R_3 칼럼 unique한 값의 수:  91\n",
            "S_6 칼럼 unique한 값의 수:  2\n",
            "R_4 칼럼 unique한 값의 수:  2\n",
            "S_8 칼럼 unique한 값의 수:  32\n",
            "R_5 칼럼 unique한 값의 수:  47\n",
            "D_59 칼럼 unique한 값의 수:  104\n",
            "S_11 칼럼 unique한 값의 수:  83\n",
            "D_63 칼럼 unique한 값의 수:  6\n",
            "D_64 칼럼 unique한 값의 수:  5\n",
            "D_65 칼럼 unique한 값의 수:  775\n",
            "B_16 칼럼 unique한 값의 수:  14\n",
            "B_19 칼럼 unique한 값의 수:  47\n",
            "D_66 칼럼 unique한 값의 수:  3\n",
            "B_20 칼럼 unique한 값의 수:  19\n",
            "D_68 칼럼 unique한 값의 수:  8\n",
            "S_13 칼럼 unique한 값의 수:  13\n",
            "B_22 칼럼 unique한 값의 수:  9\n",
            "D_70 칼럼 unique한 값의 수:  29\n",
            "D_72 칼럼 unique한 값의 수:  11\n",
            "S_15 칼럼 unique한 값의 수:  57\n",
            "D_74 칼럼 unique한 값의 수:  53\n",
            "D_75 칼럼 unique한 값의 수:  57\n",
            "D_78 칼럼 unique한 값의 수:  25\n",
            "D_79 칼럼 unique한 값의 수:  25\n",
            "R_8 칼럼 unique한 값의 수:  33\n",
            "R_9 칼럼 unique한 값의 수:  11\n",
            "D_80 칼럼 unique한 값의 수:  38\n",
            "R_10 칼럼 unique한 값의 수:  18\n",
            "R_11 칼럼 unique한 값의 수:  19\n",
            "D_81 칼럼 unique한 값의 수:  10\n",
            "D_82 칼럼 unique한 값의 수:  8\n",
            "R_13 칼럼 unique한 값의 수:  28\n",
            "D_83 칼럼 unique한 값의 수:  33\n",
            "R_15 칼럼 unique한 값의 수:  2\n",
            "D_84 칼럼 unique한 값의 수:  40\n",
            "R_16 칼럼 unique한 값의 수:  32\n",
            "B_30 칼럼 unique한 값의 수:  4\n",
            "S_18 칼럼 unique한 값의 수:  2\n",
            "D_86 칼럼 unique한 값의 수:  2\n",
            "D_87 칼럼 unique한 값의 수:  2\n",
            "R_17 칼럼 unique한 값의 수:  25\n",
            "R_18 칼럼 unique한 값의 수:  20\n",
            "B_31 칼럼 unique한 값의 수:  2\n",
            "R_19 칼럼 unique한 값의 수:  2\n",
            "B_32 칼럼 unique한 값의 수:  2\n",
            "S_20 칼럼 unique한 값의 수:  2\n",
            "R_20 칼럼 unique한 값의 수:  43\n",
            "R_21 칼럼 unique한 값의 수:  2\n",
            "B_33 칼럼 unique한 값의 수:  3\n",
            "D_89 칼럼 unique한 값의 수:  11\n",
            "R_22 칼럼 unique한 값의 수:  2\n",
            "R_23 칼럼 unique한 값의 수:  2\n",
            "D_91 칼럼 unique한 값의 수:  8\n",
            "D_92 칼럼 unique한 값의 수:  3\n",
            "D_93 칼럼 unique한 값의 수:  2\n",
            "D_94 칼럼 unique한 값의 수:  2\n",
            "R_24 칼럼 unique한 값의 수:  2\n",
            "R_25 칼럼 unique한 값의 수:  2\n",
            "D_96 칼럼 unique한 값의 수:  2\n",
            "D_103 칼럼 unique한 값의 수:  3\n",
            "D_106 칼럼 unique한 값의 수:  309\n",
            "D_107 칼럼 unique한 값의 수:  22\n",
            "R_26 칼럼 unique한 값의 수:  158\n",
            "B_38 칼럼 unique한 값의 수:  8\n",
            "D_108 칼럼 unique한 값의 수:  11\n",
            "D_109 칼럼 unique한 값의 수:  3\n",
            "D_111 칼럼 unique한 값의 수:  4\n",
            "D_113 칼럼 unique한 값의 수:  24\n",
            "D_114 칼럼 unique한 값의 수:  3\n",
            "D_116 칼럼 unique한 값의 수:  3\n",
            "D_117 칼럼 unique한 값의 수:  8\n",
            "D_120 칼럼 unique한 값의 수:  3\n",
            "D_122 칼럼 unique한 값의 수:  16\n",
            "D_123 칼럼 unique한 값의 수:  13\n",
            "D_124 칼럼 unique한 값의 수:  61\n",
            "D_125 칼럼 unique한 값의 수:  12\n",
            "D_126 칼럼 unique한 값의 수:  4\n",
            "D_127 칼럼 unique한 값의 수:  2\n",
            "D_129 칼럼 unique한 값의 수:  3\n",
            "B_41 칼럼 unique한 값의 수:  21\n",
            "R_28 칼럼 unique한 값의 수:  2\n",
            "D_135 칼럼 unique한 값의 수:  3\n",
            "D_136 칼럼 unique한 값의 수:  9\n",
            "D_137 칼럼 unique한 값의 수:  3\n",
            "D_138 칼럼 unique한 값의 수:  8\n",
            "D_139 칼럼 unique한 값의 수:  3\n",
            "D_140 칼럼 unique한 값의 수:  3\n",
            "D_143 칼럼 unique한 값의 수:  3\n",
            "D_145 칼럼 unique한 값의 수:  52\n"
          ]
        }
      ]
    },
    {
      "cell_type": "code",
      "source": [
        "train_float_df = train_df.select_dtypes(include='float32')\n",
        "print('float 칼럼의 수:', len(train_float_df.columns))\n",
        "for col in train_float_df.columns[1:]:\n",
        "  print('{0} 칼럼 unique한 값의 수: '.format(col)  , train_float_df[col].nunique())\n",
        "\n",
        "del train_float_df"
      ],
      "metadata": {
        "id": "vZOEy788E3rk",
        "colab": {
          "base_uri": "https://localhost:8080/"
        },
        "outputId": "fd12233e-6fc9-4bab-d1f3-ac1636e59029"
      },
      "execution_count": null,
      "outputs": [
        {
          "output_type": "stream",
          "name": "stdout",
          "text": [
            "float 칼럼의 수: 93\n",
            "B_1 칼럼 unique한 값의 수:  5319031\n",
            "B_2 칼럼 unique한 값의 수:  2346669\n",
            "R_1 칼럼 unique한 값의 수:  4788285\n",
            "S_3 칼럼 unique한 값의 수:  4004312\n",
            "D_41 칼럼 unique한 값의 수:  710177\n",
            "B_3 칼럼 unique한 값의 수:  5273509\n",
            "D_42 칼럼 unique한 값의 수:  785339\n",
            "D_43 칼럼 unique한 값의 수:  3708893\n",
            "D_45 칼럼 unique한 값의 수:  5210401\n",
            "B_5 칼럼 unique한 값의 수:  5268298\n",
            "D_46 칼럼 unique한 값의 수:  3388402\n",
            "D_47 칼럼 unique한 값의 수:  4986282\n",
            "D_48 칼럼 unique한 값의 수:  4534865\n",
            "B_6 칼럼 unique한 값의 수:  5152590\n",
            "B_7 칼럼 unique한 값의 수:  5259879\n",
            "B_8 칼럼 unique한 값의 수:  88734\n",
            "D_50 칼럼 unique한 값의 수:  2306378\n",
            "B_9 칼럼 unique한 값의 수:  5181777\n",
            "D_52 칼럼 unique한 값의 수:  4949947\n",
            "P_3 칼럼 unique한 값의 수:  3816101\n",
            "B_10 칼럼 unique한 값의 수:  4190332\n",
            "D_53 칼럼 unique한 값의 수:  1428989\n",
            "S_5 칼럼 unique한 값의 수:  5290271\n",
            "B_11 칼럼 unique한 값의 수:  5309099\n",
            "D_54 칼럼 unique한 값의 수:  112645\n",
            "S_7 칼럼 unique한 값의 수:  4185390\n",
            "B_12 칼럼 unique한 값의 수:  5193313\n",
            "D_55 칼럼 unique한 값의 수:  5082515\n",
            "D_56 칼럼 unique한 값의 수:  2446769\n",
            "B_13 칼럼 unique한 값의 수:  5249059\n",
            "D_58 칼럼 unique한 값의 수:  5256972\n",
            "S_9 칼럼 unique한 값의 수:  2531874\n",
            "B_14 칼럼 unique한 값의 수:  5309932\n",
            "D_60 칼럼 unique한 값의 수:  4679920\n",
            "D_61 칼럼 unique한 값의 수:  4529133\n",
            "B_15 칼럼 unique한 값의 수:  5103912\n",
            "D_62 칼럼 unique한 값의 수:  4519358\n",
            "B_17 칼럼 unique한 값의 수:  1592707\n",
            "B_18 칼럼 unique한 값의 수:  2603059\n",
            "S_12 칼럼 unique한 값의 수:  2592981\n",
            "R_6 칼럼 unique한 값의 수:  4959486\n",
            "B_21 칼럼 unique한 값의 수:  4944665\n",
            "D_69 칼럼 unique한 값의 수:  4800508\n",
            "D_71 칼럼 unique한 값의 수:  5076426\n",
            "B_23 칼럼 unique한 값의 수:  5300841\n",
            "D_73 칼럼 unique한 값의 수:  55802\n",
            "P_4 칼럼 unique한 값의 수:  424684\n",
            "D_76 칼럼 unique한 값의 수:  619107\n",
            "B_24 칼럼 unique한 값의 수:  4960342\n",
            "R_7 칼럼 unique한 값의 수:  144971\n",
            "D_77 칼럼 unique한 값의 수:  2859646\n",
            "B_25 칼럼 unique한 값의 수:  5297013\n",
            "B_26 칼럼 unique한 값의 수:  4969518\n",
            "S_16 칼럼 unique한 값의 수:  4944353\n",
            "B_27 칼럼 unique한 값의 수:  4921945\n",
            "S_17 칼럼 unique한 값의 수:  4996175\n",
            "R_12 칼럼 unique한 값의 수:  153759\n",
            "B_28 칼럼 unique한 값의 수:  5274054\n",
            "R_14 칼럼 unique한 값의 수:  77586\n",
            "B_29 칼럼 unique한 값의 수:  378319\n",
            "D_88 칼럼 unique한 값의 수:  6004\n",
            "S_19 칼럼 unique한 값의 수:  4923015\n",
            "S_22 칼럼 unique한 값의 수:  2330970\n",
            "S_23 칼럼 unique한 값의 수:  1252495\n",
            "S_24 칼럼 unique한 값의 수:  2793098\n",
            "S_25 칼럼 unique한 값의 수:  755544\n",
            "S_26 칼럼 unique한 값의 수:  5157577\n",
            "D_102 칼럼 unique한 값의 수:  5187619\n",
            "D_104 칼럼 unique한 값의 수:  850543\n",
            "D_105 칼럼 unique한 값의 수:  2414778\n",
            "B_36 칼럼 unique한 값의 수:  4929153\n",
            "B_37 칼럼 unique한 값의 수:  5318922\n",
            "R_27 칼럼 unique한 값의 수:  685818\n",
            "D_110 칼럼 unique한 값의 수:  30406\n",
            "B_39 칼럼 unique한 값의 수:  33557\n",
            "D_112 칼럼 unique한 값의 수:  894388\n",
            "B_40 칼럼 unique한 값의 수:  5308815\n",
            "S_27 칼럼 unique한 값의 수:  3885609\n",
            "D_115 칼럼 unique한 값의 수:  5063856\n",
            "D_118 칼럼 unique한 값의 수:  5064015\n",
            "D_119 칼럼 unique한 값의 수:  5071097\n",
            "D_121 칼럼 unique한 값의 수:  4308351\n",
            "D_128 칼럼 unique한 값의 수:  100748\n",
            "B_42 칼럼 unique한 값의 수:  71434\n",
            "D_130 칼럼 unique한 값의 수:  87229\n",
            "D_131 칼럼 unique한 값의 수:  357435\n",
            "D_132 칼럼 unique한 값의 수:  538748\n",
            "D_133 칼럼 unique한 값의 수:  4966219\n",
            "D_134 칼럼 unique한 값의 수:  192523\n",
            "D_141 칼럼 unique한 값의 수:  779126\n",
            "D_142 칼럼 unique한 값의 수:  926344\n",
            "D_144 칼럼 unique한 값의 수:  4985193\n"
          ]
        }
      ]
    },
    {
      "cell_type": "markdown",
      "source": [
        "# Feature Engineering\n",
        "customer_ID 별 데이터로 변환하는 방법.... "
      ],
      "metadata": {
        "id": "AOPGsngWFLyY"
      }
    }
  ]
}